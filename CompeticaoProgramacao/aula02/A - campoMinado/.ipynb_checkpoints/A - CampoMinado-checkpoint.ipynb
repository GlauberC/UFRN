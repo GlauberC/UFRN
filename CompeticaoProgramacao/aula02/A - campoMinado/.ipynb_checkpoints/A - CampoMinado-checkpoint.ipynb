{
 "cells": [
  {
   "cell_type": "code",
   "execution_count": 9,
   "metadata": {},
   "outputs": [
    {
     "name": "stdin",
     "output_type": "stream",
     "text": [
      " \n"
     ]
    },
    {
     "ename": "ValueError",
     "evalue": "not enough values to unpack (expected 2, got 0)",
     "output_type": "error",
     "traceback": [
      "\u001b[0;31m---------------------------------------------------------------------------\u001b[0m",
      "\u001b[0;31mValueError\u001b[0m                                Traceback (most recent call last)",
      "\u001b[0;32m<ipython-input-9-2ddf0bae9944>\u001b[0m in \u001b[0;36m<module>\u001b[0;34m\u001b[0m\n\u001b[1;32m     14\u001b[0m \"\"\"\n\u001b[1;32m     15\u001b[0m \u001b[0;32mwhile\u001b[0m\u001b[0;34m(\u001b[0m\u001b[0mn\u001b[0m \u001b[0;34m!=\u001b[0m \u001b[0;36m0\u001b[0m \u001b[0;32mand\u001b[0m \u001b[0mm\u001b[0m \u001b[0;34m!=\u001b[0m \u001b[0;36m0\u001b[0m\u001b[0;34m)\u001b[0m\u001b[0;34m:\u001b[0m\u001b[0;34m\u001b[0m\u001b[0;34m\u001b[0m\u001b[0m\n\u001b[0;32m---> 16\u001b[0;31m     \u001b[0mn\u001b[0m\u001b[0;34m,\u001b[0m\u001b[0mm\u001b[0m \u001b[0;34m=\u001b[0m \u001b[0minput\u001b[0m\u001b[0;34m(\u001b[0m\u001b[0;34m)\u001b[0m\u001b[0;34m.\u001b[0m\u001b[0msplit\u001b[0m\u001b[0;34m(\u001b[0m\u001b[0;34m)\u001b[0m\u001b[0;34m\u001b[0m\u001b[0;34m\u001b[0m\u001b[0m\n\u001b[0m\u001b[1;32m     17\u001b[0m     \u001b[0mprint\u001b[0m\u001b[0;34m(\u001b[0m\u001b[0mentrada\u001b[0m\u001b[0;34m)\u001b[0m\u001b[0;34m\u001b[0m\u001b[0;34m\u001b[0m\u001b[0m\n\u001b[1;32m     18\u001b[0m     \u001b[0mn\u001b[0m\u001b[0;34m,\u001b[0m\u001b[0mm\u001b[0m \u001b[0;34m=\u001b[0m \u001b[0mint\u001b[0m\u001b[0;34m(\u001b[0m\u001b[0mn\u001b[0m\u001b[0;34m)\u001b[0m\u001b[0;34m,\u001b[0m \u001b[0mint\u001b[0m\u001b[0;34m(\u001b[0m\u001b[0mm\u001b[0m\u001b[0;34m)\u001b[0m\u001b[0;34m\u001b[0m\u001b[0;34m\u001b[0m\u001b[0m\n",
      "\u001b[0;31mValueError\u001b[0m: not enough values to unpack (expected 2, got 0)"
     ]
    }
   ],
   "source": [
    "field = 0\n",
    "n, m = 1, 1\n",
    "while(n != 0 and m != 0):\n",
    "    n,m = input().split()\n",
    "    n,m = int(n), int(m)\n",
    "    if(n != 0 and m != 0):\n",
    "        campoMinado= []\n",
    "        field += 1\n",
    "        print('Field #{}:'.format(field))\n",
    "        \n",
    "        for i in range(0, n):\n",
    "            l = input()\n",
    "            campoMinado.append([])\n",
    "            for q in range(0, m):\n",
    "                if(l[q] == '.'):\n",
    "                    campoMinado[i].append(0)\n",
    "                else:\n",
    "                    campoMinado[i].append('*')\n",
    "        for i in range(0, n):\n",
    "            for j in range(0, m):\n",
    "                if (campoMinado[i][j] == '*'):\n",
    "                    if(i != 0):\n",
    "                        campoMinado[i-1][j] += 1    #cima\n",
    "                    if(i != n-1):\n",
    "                        campoMinado[i+1][j] += 1    #baixo\n",
    "                    if(j != 0):\n",
    "                        campoMinado[i][j-1] += 1    #esquerda\n",
    "                    if(j != m-1):\n",
    "                        campoMinado[i][j+1] += 1    #direita\n",
    "                    if(i != 0) and (j != 0):\n",
    "                        campoMinado[i-1][j-1] += 1  #cima esquerda\n",
    "                    if(i != 0) and (j != m):\n",
    "                        campoMinado[i-1][j+1] += 1  #cima direita\n",
    "                    if(i != n) and (j != 0):\n",
    "                        campoMinado[i+1][j-1] += 1  #baixo esquerda\n",
    "                    if(i != n) and (j != m):\n",
    "                        campoMinado[i+1][j+1] += 1  #baixo direita\n",
    "        for i in range(0, n):\n",
    "            for j in range(0, m):\n",
    "                print(campoMinado[i][j], end='')\n",
    "            print()\n",
    "        print()"
   ]
  },
  {
   "cell_type": "code",
   "execution_count": null,
   "metadata": {},
   "outputs": [],
   "source": []
  }
 ],
 "metadata": {
  "kernelspec": {
   "display_name": "Python 3",
   "language": "python",
   "name": "python3"
  },
  "language_info": {
   "codemirror_mode": {
    "name": "ipython",
    "version": 3
   },
   "file_extension": ".py",
   "mimetype": "text/x-python",
   "name": "python",
   "nbconvert_exporter": "python",
   "pygments_lexer": "ipython3",
   "version": "3.7.1"
  }
 },
 "nbformat": 4,
 "nbformat_minor": 2
}
